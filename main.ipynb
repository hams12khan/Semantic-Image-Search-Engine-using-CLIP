{
 "cells": [
  {
   "cell_type": "code",
   "execution_count": 1,
   "metadata": {},
   "outputs": [
    {
     "name": "stdout",
     "output_type": "stream",
     "text": [
      "Collecting git+https://github.com/openai/CLIP.git\n",
      "  Cloning https://github.com/openai/CLIP.git to c:\\users\\hammad\\appdata\\local\\temp\\pip-req-build-rkiiuedh\n",
      "  Resolved https://github.com/openai/CLIP.git to commit dcba3cb2e2827b402d2701e7e1c7d9fed8a20ef1\n",
      "  Preparing metadata (setup.py): started\n",
      "  Preparing metadata (setup.py): finished with status 'done'\n",
      "Collecting ftfy (from clip==1.0)\n",
      "  Downloading ftfy-6.3.1-py3-none-any.whl.metadata (7.3 kB)\n",
      "Requirement already satisfied: packaging in c:\\users\\hammad\\anaconda3\\envs\\hammad\\lib\\site-packages (from clip==1.0) (24.2)\n",
      "Requirement already satisfied: regex in c:\\users\\hammad\\anaconda3\\envs\\hammad\\lib\\site-packages (from clip==1.0) (2024.11.6)\n",
      "Requirement already satisfied: tqdm in c:\\users\\hammad\\anaconda3\\envs\\hammad\\lib\\site-packages (from clip==1.0) (4.67.1)\n",
      "Requirement already satisfied: torch in c:\\users\\hammad\\anaconda3\\envs\\hammad\\lib\\site-packages (from clip==1.0) (2.6.0+cu126)\n",
      "Requirement already satisfied: torchvision in c:\\users\\hammad\\anaconda3\\envs\\hammad\\lib\\site-packages (from clip==1.0) (0.21.0+cu126)\n",
      "Requirement already satisfied: wcwidth in c:\\users\\hammad\\anaconda3\\envs\\hammad\\lib\\site-packages (from ftfy->clip==1.0) (0.2.13)\n",
      "Requirement already satisfied: filelock in c:\\users\\hammad\\anaconda3\\envs\\hammad\\lib\\site-packages (from torch->clip==1.0) (3.13.1)\n",
      "Requirement already satisfied: typing-extensions>=4.10.0 in c:\\users\\hammad\\anaconda3\\envs\\hammad\\lib\\site-packages (from torch->clip==1.0) (4.12.2)\n",
      "Requirement already satisfied: networkx in c:\\users\\hammad\\anaconda3\\envs\\hammad\\lib\\site-packages (from torch->clip==1.0) (3.3)\n",
      "Requirement already satisfied: jinja2 in c:\\users\\hammad\\anaconda3\\envs\\hammad\\lib\\site-packages (from torch->clip==1.0) (3.1.4)\n",
      "Requirement already satisfied: fsspec in c:\\users\\hammad\\anaconda3\\envs\\hammad\\lib\\site-packages (from torch->clip==1.0) (2024.6.1)\n",
      "Requirement already satisfied: setuptools in c:\\users\\hammad\\anaconda3\\envs\\hammad\\lib\\site-packages (from torch->clip==1.0) (75.8.0)\n",
      "Requirement already satisfied: sympy==1.13.1 in c:\\users\\hammad\\anaconda3\\envs\\hammad\\lib\\site-packages (from torch->clip==1.0) (1.13.1)\n",
      "Requirement already satisfied: mpmath<1.4,>=1.1.0 in c:\\users\\hammad\\anaconda3\\envs\\hammad\\lib\\site-packages (from sympy==1.13.1->torch->clip==1.0) (1.3.0)\n",
      "Requirement already satisfied: numpy in c:\\users\\hammad\\anaconda3\\envs\\hammad\\lib\\site-packages (from torchvision->clip==1.0) (2.1.2)\n",
      "Requirement already satisfied: pillow!=8.3.*,>=5.3.0 in c:\\users\\hammad\\anaconda3\\envs\\hammad\\lib\\site-packages (from torchvision->clip==1.0) (11.0.0)\n",
      "Requirement already satisfied: colorama in c:\\users\\hammad\\anaconda3\\envs\\hammad\\lib\\site-packages (from tqdm->clip==1.0) (0.4.6)\n",
      "Requirement already satisfied: MarkupSafe>=2.0 in c:\\users\\hammad\\anaconda3\\envs\\hammad\\lib\\site-packages (from jinja2->torch->clip==1.0) (2.1.5)\n",
      "Downloading ftfy-6.3.1-py3-none-any.whl (44 kB)\n",
      "Building wheels for collected packages: clip\n",
      "  Building wheel for clip (setup.py): started\n",
      "  Building wheel for clip (setup.py): finished with status 'done'\n",
      "  Created wheel for clip: filename=clip-1.0-py3-none-any.whl size=1369594 sha256=71851aae259270ba87ed0859f06c7f59a823ec6008c9d0013b13dca4bbdcf1b2\n",
      "  Stored in directory: C:\\Users\\Hammad\\AppData\\Local\\Temp\\pip-ephem-wheel-cache-o0fjyafx\\wheels\\cb\\a8\\74\\5f32d6cf0407457f0f62737b6da5c14eb86b9cac476fdf630d\n",
      "Successfully built clip\n",
      "Installing collected packages: ftfy, clip\n",
      "Successfully installed clip-1.0 ftfy-6.3.1\n",
      "Note: you may need to restart the kernel to use updated packages.\n"
     ]
    },
    {
     "name": "stderr",
     "output_type": "stream",
     "text": [
      "  Running command git clone --filter=blob:none --quiet https://github.com/openai/CLIP.git 'C:\\Users\\Hammad\\AppData\\Local\\Temp\\pip-req-build-rkiiuedh'\n"
     ]
    }
   ],
   "source": [
    "pip install git+https://github.com/openai/CLIP.git\n"
   ]
  },
  {
   "cell_type": "code",
   "execution_count": 2,
   "metadata": {},
   "outputs": [],
   "source": [
    "import torch\n",
    "import clip\n",
    "from PIL import Image\n",
    "import os\n",
    "import numpy as np\n",
    "from sklearn.metrics.pairwise import cosine_similarity\n",
    "import pickle\n",
    "import json\n",
    "from concurrent.futures import ThreadPoolExecutor\n"
   ]
  },
  {
   "cell_type": "code",
   "execution_count": 3,
   "metadata": {},
   "outputs": [],
   "source": [
    "# Load CLIP model\n",
    "device = \"cuda\" if torch.cuda.is_available() else \"cpu\"\n",
    "model, preprocess = clip.load(\"ViT-B/32\", device=device)\n"
   ]
  },
  {
   "cell_type": "code",
   "execution_count": 4,
   "metadata": {},
   "outputs": [],
   "source": [
    "# COCO dataset paths\n",
    "COCO_IMAGE_FOLDER = r\"D:\\VS_Jnotepad_code\\Search Enginer Project\\coco_dataset\\train2017_subset\"\n",
    "COCO_ANNOTATIONS_FILE = r\"D:\\VS_Jnotepad_code\\Search Enginer Project\\coco_dataset\\annotations\\annotations\\captions_train2017.json\""
   ]
  },
  {
   "cell_type": "code",
   "execution_count": 5,
   "metadata": {},
   "outputs": [],
   "source": [
    "# Load COCO captions\n",
    "def load_coco_captions(annotation_file):\n",
    "    with open(annotation_file, 'r') as f:\n",
    "        data = json.load(f)\n",
    "    image_id_to_captions = {}\n",
    "    for ann in data['annotations']:\n",
    "        image_id = ann['image_id']\n",
    "        caption = ann['caption']\n",
    "        if image_id not in image_id_to_captions:\n",
    "            image_id_to_captions[image_id] = []\n",
    "        image_id_to_captions[image_id].append(caption)\n",
    "    return image_id_to_captions, data['images']\n",
    "\n",
    "# Load and preprocess COCO images in parallel\n",
    "def process_single_image(img_info, folder, captions):\n",
    "    filename = img_info['file_name']\n",
    "    img_path = os.path.join(folder, filename)\n",
    "    image_id = img_info['id']\n",
    "    \n",
    "    try:\n",
    "        if os.path.exists(img_path):\n",
    "            image = Image.open(img_path)\n",
    "            image = image.convert(\"RGB\")  # Convert to RGB to avoid mode issues\n",
    "            image = preprocess(image).unsqueeze(0).to(device)\n",
    "            with torch.no_grad():\n",
    "                img_embedding = model.encode_image(image)\n",
    "                img_embedding /= img_embedding.norm(dim=-1, keepdim=True)\n",
    "            \n",
    "            text_embeds = []\n",
    "            if image_id in captions:\n",
    "                for caption in captions[image_id]:\n",
    "                    caption_tokenized = clip.tokenize([caption]).to(device)\n",
    "                    with torch.no_grad():\n",
    "                        text_embedding = model.encode_text(caption_tokenized)\n",
    "                        text_embedding /= text_embedding.norm(dim=-1, keepdim=True)\n",
    "                    text_embeds.append(text_embedding.cpu().numpy())\n",
    "            \n",
    "            text_embedding_mean = np.mean(text_embeds, axis=0) if text_embeds else None\n",
    "            return filename, img_embedding.cpu().numpy(), text_embedding_mean\n",
    "    except (OSError, Image.UnidentifiedImageError) as e:\n",
    "        print(f\"❌ Skipping corrupted image: {filename} - {str(e)}\")\n",
    "    return None\n",
    "\n",
    "# Parallel processing\n",
    "def load_and_preprocess_coco_images(folder, image_data, captions, num_workers=20):\n",
    "    image_embeddings = {}\n",
    "    text_embeddings = {}\n",
    "    with ThreadPoolExecutor(max_workers=num_workers) as executor:\n",
    "        results = executor.map(lambda img_info: process_single_image(img_info, folder, captions), image_data)\n",
    "    \n",
    "    for result in results:\n",
    "        if result is not None:\n",
    "            filename, img_embedding, text_embedding = result\n",
    "            image_embeddings[filename] = img_embedding\n",
    "            if text_embedding is not None:\n",
    "                text_embeddings[filename] = text_embedding\n",
    "    \n",
    "    return image_embeddings, text_embeddings"
   ]
  },
  {
   "cell_type": "code",
   "execution_count": 6,
   "metadata": {},
   "outputs": [
    {
     "name": "stdout",
     "output_type": "stream",
     "text": [
      "❌ Skipping corrupted image: 000000514846.jpg - image file is truncated (19 bytes not processed)\n",
      "✅ COCO Image and Text Embeddings Saved!\n"
     ]
    }
   ],
   "source": [
    "\n",
    "# Load COCO dataset\n",
    "coco_captions, coco_images = load_coco_captions(COCO_ANNOTATIONS_FILE)\n",
    "image_embeddings, text_embeddings = load_and_preprocess_coco_images(COCO_IMAGE_FOLDER, coco_images, coco_captions, num_workers=12)\n",
    "\n",
    "# Save embeddings\n",
    "pickle.dump(image_embeddings, open(\"coco_image_embeddings.pkl\", \"wb\"))\n",
    "pickle.dump(text_embeddings, open(\"coco_text_embeddings.pkl\", \"wb\"))\n",
    "\n",
    "print(\"✅ COCO Image and Text Embeddings Saved!\")"
   ]
  }
 ],
 "metadata": {
  "kernelspec": {
   "display_name": "Hammad",
   "language": "python",
   "name": "python3"
  },
  "language_info": {
   "codemirror_mode": {
    "name": "ipython",
    "version": 3
   },
   "file_extension": ".py",
   "mimetype": "text/x-python",
   "name": "python",
   "nbconvert_exporter": "python",
   "pygments_lexer": "ipython3",
   "version": "3.13.2"
  }
 },
 "nbformat": 4,
 "nbformat_minor": 2
}
